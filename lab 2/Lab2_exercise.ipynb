{
 "cells": [
  {
   "cell_type": "code",
   "execution_count": 47,
   "id": "97757272-1518-4f67-b877-fe7628ea22d8",
   "metadata": {},
   "outputs": [
    {
     "name": "stdout",
     "output_type": "stream",
     "text": [
      "<re.Match object; span=(0, 1), match='I'>\n",
      "None\n",
      "None\n",
      "<re.Match object; span=(2, 4), match='am'>\n",
      "<re.Match object; span=(2, 4), match='am'>\n",
      "['am', 'am']\n",
      "['I am learning text analytics ', ' am enjoying it']\n",
      "['I ', ' learning text analytics and ', ' enjoying it']\n",
      "['I ', ' learning text analytics and am enjoying it']\n",
      "['I ', ' learning text analytics and ', ' enjoying it']\n",
      "['I ', ' learning text analytics, I ', ' enjoying it and I ', ' going to ace it']\n"
     ]
    }
   ],
   "source": [
    "import re\n",
    "\n",
    "sentence1 = re.match (r'I', 'I am learning text analytics')\n",
    "print (sentence1)\n",
    "sentence2 = re.match (r'v', 'I am learning text analytics')\n",
    "print (sentence2)\n",
    "sentence3 = re.match (r'am', 'I am learning text analytics')\n",
    "print (sentence3)\n",
    "sentence4 = re.search(r'am', 'I am learning text analytics')\n",
    "print (sentence4)\n",
    "sentence5 = re.search(r'am', 'I am learning text analytics and am enjoying it')\n",
    "print (sentence5)\n",
    "sentence6 = re.findall(r'am', 'I am learning text analytics and am enjoying it')\n",
    "print (sentence6)\n",
    "sentence7 = re.split(r'and', 'I am learning text analytics and am enjoying it')\n",
    "print (sentence7)\n",
    "sentence8 = re.split(r'am', 'I am learning text analytics and am enjoying it')\n",
    "print (sentence8)\n",
    "sentence9 = re.split(r'am', 'I am learning text analytics and am enjoying it', maxsplit=1)\n",
    "print (sentence9)\n",
    "sentence9 = re.split(r'am', 'I am learning text analytics and am enjoying it', maxsplit=2)\n",
    "print (sentence9)\n",
    "sentence10 = re.split(r'am', 'I am learning text analytics, I am enjoying it and I am going to ace it', maxsplit=3)\n",
    "print (sentence10)\n",
    "sentence11 = re.sub(r'I', 'we', 'I like text analytics and I enjoy learning it')\n",
    "print (sentence11)\n"
   ]
  },
  {
   "cell_type": "code",
   "execution_count": 96,
   "id": "53ab51ce-74bf-4bd4-ab03-cc76c0934a6a",
   "metadata": {},
   "outputs": [
    {
     "name": "stdout",
     "output_type": "stream",
     "text": [
      "['I', ' ', 'a', 'm', ' ', 'l', 'e', 'a', 'r', 'n', 'i', 'n', 'g', ' ', 't', 'e', 'x', 't', ' ', 'a', 'n', 'a', 'l', 'y', 't', 'i', 'c', 's']\n",
      "['I', 'a', 'm', 'l', 'e', 'a', 'r', 'n', 'i', 'n', 'g', 't', 'e', 'x', 't', 'a', 'n', 'a', 'l', 'y', 't', 'i', 'c', 's']\n",
      "['I', '', 'am', '', 'learning', '', 'text', '', 'analytics', '']\n",
      "['I', 'am', 'learning', 'text', 'analytics']\n",
      "['I']\n",
      "['analytics']\n",
      "['am', 'le', 'ar', 'ni', 'ng', 'te', 'xt', 'an', 'al', 'yt', 'ic']\n",
      "['am', 'le', 'te', 'an']\n",
      "['@text', '@analytics', '@textanalytics']\n",
      "['@text.com', '@analytics.gov', '@textanalytics.edu']\n",
      "['@text.com.my', '@analytics.gov.my', '@textanalytics.edu.my']\n",
      "['com.my', 'gov.my']\n",
      "['15-05-20', '20-08-20']\n",
      "['15-05-2001', '20-08-2000']\n",
      "['2001', '2000']\n",
      "['ave', 'eight', 'ory', 'ooks', 'often', 'ead', 'em', 'in', 'afternoon']\n",
      "['eight', 'often', 'in', 'afternoon']\n",
      "['have', 'story', 'books', 'read', 'them']\n",
      "['I have many story books', ' colouring books', ' I often read them in the afternoon.']\n"
     ]
    }
   ],
   "source": [
    "sentence1 = re.findall (r'.', 'I am learning text analytics')\n",
    "print (sentence1)\n",
    "sentence2 = re.findall (r'\\w', 'I am learning text analytics') \n",
    "print (sentence2)\n",
    "sentence3 = re.findall (r'\\w*', 'I am learning text analytics')\n",
    "print (sentence3)\n",
    "sentence4 = re.findall (r'\\w+', 'I am learning text analytics')\n",
    "print (sentence4)\n",
    "sentence5 = re.findall (r'^\\w+', 'I am learning text analytics')\n",
    "print (sentence5)\n",
    "sentence6 = re.findall (r'\\w+$', 'I am learning text analytics')\n",
    "print (sentence6)\n",
    "sentence7 = re.findall (r'\\w\\w', 'I am learning text analytics')\n",
    "print (sentence7)\n",
    "sentence8 = re.findall (r'\\b\\w\\w', 'I am learning text analytics')\n",
    "print (sentence8)\n",
    "sentence9 = re.findall (r'@\\w+', 'user@text.com.my,user@analytics.gov.my, user@textanalytics.edu.my')\n",
    "print (sentence9)\n",
    "sentence10 = re.findall (r'@\\w+.\\w+','user@text.com.my,user@analytics.gov.my, user@textanalytics.edu.my')\n",
    "print (sentence10)\n",
    "sentence11 = re.findall (r'@\\w+.\\w+.\\w+', 'user@text.com.my,user@analytics.gov.my, user@textanalytics.edu.my')\n",
    "print (sentence11)\n",
    "sentence12 = re.findall (r'@\\w+.(\\w+.\\w+)', 'user@text.com.my,user@analytics.gov.my, u')\n",
    "print (sentence12)\n",
    "sentence13 = re.findall (r'\\d{2}-\\d{2}-\\d{2}', 'Ahmad BIT(IS)15-05-2001, Johnny BCS(SE) 20-08-2000')\n",
    "print (sentence13)\n",
    "sentence14 = re.findall (r'\\d{2}-\\d{2}-\\d{4}', 'Ahmad BIT(IS)15-05-2001, Johnny BCS(SE) 20-08-2000')\n",
    "print (sentence14)\n",
    "sentence15 = re.findall (r'\\d{2}-\\d{2}-(\\d{4})', 'Ahmad BIT(IS)15-05-2001, Johnny BCS(SE) 20-08-2000')\n",
    "print (sentence15)\n",
    "sentence16 = re.findall (r'[aeiouAEIOU]\\w+', 'I have eight story books. I often read them in afternoon')\n",
    "print (sentence16)\n",
    "sentence17 = re.findall (r'\\b[aeiouAEIOU]\\w+', 'I have eight story books. I often read them in afternoon')\n",
    "print (sentence17)\n",
    "sentence18 = re.findall (r'\\b[^aeiouAEIOU\\s]\\w+', 'I have eight story books. I often read them in afternoon')\n",
    "print (sentence18)\n",
    "sentence19 = re.split (r'[;,]', 'I have many story books, colouring books; I often read them in the afternoon.')\n",
    "print (sentence19)\n",
    "sentence20 = re.split (r'[;,\\s]', 'I have many story books, colouring books; I often read them in the afternoon.')\n",
    "print (sentence20)\n",
    "sentence21 = re.sub (r'[;,]', '.', 'I have many story books, colouring books; I often read them in the afternoon.')\n",
    "print (sentence21)\n"
   ]
  },
  {
   "cell_type": "code",
   "execution_count": 110,
   "id": "4fe487c4-0710-49f5-919c-0eba55ef0c68",
   "metadata": {},
   "outputs": [
    {
     "name": "stdout",
     "output_type": "stream",
     "text": [
      "Digits found: ['2', '4', '5', '6', '7', '8', '9', '3', '4', '1', '2', '3', '0']\n"
     ]
    }
   ],
   "source": [
    "import re\n",
    "text = \"Order number: 24567, Tracking ID: 8934A12, Quantity: 30\"\n",
    "# Write your regular expression here\n",
    "pattern = r'\\d'\n",
    "matches = re.findall(pattern, text)\n",
    "print(\"Digits found:\", matches)"
   ]
  },
  {
   "cell_type": "code",
   "execution_count": 118,
   "id": "13b492a9-ed67-4036-b684-e4407d9d417f",
   "metadata": {},
   "outputs": [
    {
     "name": "stdout",
     "output_type": "stream",
     "text": [
      "Non-alphanumeric characters: ['!', ' ', \"'\", ' ', ' ', ' ', '?', ' ', ' ', ' ', '@', ' ', '.']\n"
     ]
    }
   ],
   "source": [
    "text = \"Welcome! How's your day going? Call me @ 3pm.\"\n",
    "pattern = r'\\W'\n",
    "matches = re.findall(pattern, text)\n",
    "print(\"Non-alphanumeric characters:\", matches)"
   ]
  },
  {
   "cell_type": "code",
   "execution_count": 142,
   "id": "57e68de7-8dc3-425b-bd3b-0e543600cfad",
   "metadata": {},
   "outputs": [
    {
     "name": "stdout",
     "output_type": "stream",
     "text": [
      "Split text: ['Data Science', ' AI', ' and Machine Learning', ' These fields are growing fast', '']\n"
     ]
    }
   ],
   "source": [
    "text = \"Data Science, AI, and Machine Learning. These fields are growing fast.\"\n",
    "pattern = r'[,.]'\n",
    "split_text = re.split(pattern, text)\n",
    "print(\"Split text:\", split_text)"
   ]
  },
  {
   "cell_type": "code",
   "execution_count": 167,
   "id": "ab2342f8-0b76-477c-8209-2a74009ddf24",
   "metadata": {},
   "outputs": [
    {
     "name": "stdout",
     "output_type": "stream",
     "text": [
      "Anonymized text: Contact us at [HIDDEN] or [HIDDEN]\n"
     ]
    }
   ],
   "source": [
    "text = \"Contact us at support@example.com or info@company.org\"\n",
    "pattern = r'\\w+@\\w+.\\w+'\n",
    "new_text = re.sub(pattern, \"[HIDDEN]\", text)\n",
    "print(\"Anonymized text:\", new_text)"
   ]
  },
  {
   "cell_type": "code",
   "execution_count": 187,
   "id": "fc8b5ff5-f69e-4fa5-adff-7a4724f26160",
   "metadata": {},
   "outputs": [
    {
     "name": "stdout",
     "output_type": "stream",
     "text": [
      "Domain types: ['com', 'edu', 'org']\n"
     ]
    }
   ],
   "source": [
    "text = \"Emails: user@gmail.com, admin@university.edu, info@company.org\"\n",
    "pattern = r'@\\w+.(\\w+)'\n",
    "matches = re.findall(pattern, text)\n",
    "print(\"Domain types:\", matches)"
   ]
  }
 ],
 "metadata": {
  "kernelspec": {
   "display_name": "Python [conda env:base] *",
   "language": "python",
   "name": "conda-base-py"
  },
  "language_info": {
   "codemirror_mode": {
    "name": "ipython",
    "version": 3
   },
   "file_extension": ".py",
   "mimetype": "text/x-python",
   "name": "python",
   "nbconvert_exporter": "python",
   "pygments_lexer": "ipython3",
   "version": "3.12.7"
  }
 },
 "nbformat": 4,
 "nbformat_minor": 5
}
