{
 "cells": [
  {
   "cell_type": "code",
   "execution_count": 36,
   "id": "71ef675a-47ce-4097-a616-6c49ce6b4ecb",
   "metadata": {},
   "outputs": [
    {
     "name": "stdout",
     "output_type": "stream",
     "text": [
      "0     product arrive time packaging great quality am...\n",
      "1                                    product amaze love\n",
      "2                    buy phone hz display totally worth\n",
      "3                     wow product awesome bit expensive\n",
      "4                            laptop work perfectly fine\n",
      "5                             check full product detail\n",
      "6                          great purchase happy product\n",
      "7             battery life excellent charge cable short\n",
      "8                   can not believe good expect quality\n",
      "9            love product fast delivery amazing quality\n",
      "10                    honest expect much oh god awesome\n",
      "11                           best product ever use life\n",
      "12       shoe comfortable fit nicely work perfectly jog\n",
      "Name: lemmatized, dtype: object\n",
      "0     positive\n",
      "1     positive\n",
      "2     positive\n",
      "3     negative\n",
      "4     positive\n",
      "5     positive\n",
      "6     positive\n",
      "7     positive\n",
      "8     positive\n",
      "9     positive\n",
      "10    positive\n",
      "11    positive\n",
      "12    positive\n",
      "Name: label, dtype: object\n"
     ]
    }
   ],
   "source": [
    "import pandas as pd\n",
    "\n",
    "df = pd.read_csv(\"Processed_Reviews.csv\",encoding=\"ISO-8859-1\")\n",
    "df.shape\n",
    "df.head()\n",
    "print(df[\"lemmatized\"])\n",
    "print(df[\"label\"])"
   ]
  },
  {
   "cell_type": "code",
   "execution_count": 40,
   "id": "913a3f03-02af-4e1a-9d66-1737ac7200eb",
   "metadata": {},
   "outputs": [
    {
     "name": "stdout",
     "output_type": "stream",
     "text": [
      "0     1\n",
      "1     1\n",
      "2     1\n",
      "3     0\n",
      "4     1\n",
      "5     1\n",
      "6     1\n",
      "7     1\n",
      "8     1\n",
      "9     1\n",
      "10    1\n",
      "11    1\n",
      "12    1\n",
      "Name: label_numeric, dtype: int64\n"
     ]
    }
   ],
   "source": [
    "df[\"label_clean\"] = df[\"label\"].astype(str).str.strip().str.lower()\n",
    "\n",
    "df[\"label_numeric\"] = df[\"label_clean\"].map({\n",
    "    \"positive\": 1,\n",
    "    \"negative\": 0\n",
    "})\n",
    "\n",
    "print(df[\"label_numeric\"])"
   ]
  },
  {
   "cell_type": "code",
   "execution_count": 50,
   "id": "8c5f8a35-870d-4f92-bf98-c7d3dc59def4",
   "metadata": {},
   "outputs": [
    {
     "name": "stdout",
     "output_type": "stream",
     "text": [
      "['amaze' 'amazing' 'arrive' 'awesome' 'battery' 'believe' 'best' 'bit'\n",
      " 'buy' 'cable' 'can' 'charge' 'check' 'comfortable' 'delivery' 'detail'\n",
      " 'display' 'ever' 'excellent' 'expect']\n",
      "(13, 53)\n"
     ]
    }
   ],
   "source": [
    "from sklearn.feature_extraction.text import TfidfVectorizer\n",
    "\n",
    "# Initialize the vectorizer\n",
    "tfidf_vect = TfidfVectorizer()\n",
    "\n",
    "# Fit and transform the lemmatized text\n",
    "X_tfidf = tfidf_vect.fit_transform(df[\"lemmatized\"].astype(str))\n",
    "\n",
    "print(tfidf_vect.get_feature_names_out()[:20])  # show first 20 features\n",
    "\n",
    "print(X_tfidf.shape)  # (num_samples, num_features)\n"
   ]
  },
  {
   "cell_type": "code",
   "execution_count": 64,
   "id": "d5f9b742-121b-4b6f-aea8-83170fcf888a",
   "metadata": {},
   "outputs": [],
   "source": [
    "from sklearn.feature_extraction.text import TfidfVectorizer\n",
    "from sklearn.model_selection import train_test_split\n",
    "from sklearn.naive_bayes import MultinomialNB\n",
    "from sklearn.metrics import classification_report, confusion_matrix, accuracy_score\n",
    "\n",
    "# Vectorize text using TF-IDF\n",
    "tfidf_vect = TfidfVectorizer()\n",
    "X = tfidf_vect.fit_transform(df[\"lemmatized\"].astype(str))\n",
    "y = df[\"label_numeric\"]\n",
    "\n",
    "# Split data into train & test sets\n",
    "X_train, X_test, y_train, y_test = train_test_split(X, y, random_state=42)\n",
    "\n",
    "# Train Naive Bayes classifier\n",
    "nb_clf = MultinomialNB().fit(X_train, y_train)\n",
    "\n",
    "# Predict and evaluate\n",
    "nb_predicted = nb_clf.predict(X_test)\n",
    "nb_report = classification_report(y_test, nb_predicted)\n",
    "nb_error_rate = 1 - accuracy_score(y_test, nb_predicted)\n",
    "\n",
    "# Specify the labels explicitly for confusion matrix\n",
    "labels = [0, 1]  # 0 for 'negative' and 1 for 'positive'\n",
    "nb_cm = confusion_matrix(y_test, nb_predicted, labels=labels)\n"
   ]
  },
  {
   "cell_type": "code",
   "execution_count": 58,
   "id": "5e9f8129-470f-423f-bba2-a986069b7ee7",
   "metadata": {},
   "outputs": [
    {
     "data": {
      "image/png": "[encoded data removed]",
      "text/plain": [
       "<Figure size 800x600 with 2 Axes>"
      ]
     },
     "metadata": {},
     "output_type": "display_data"
    },
    {
     "name": "stdout",
     "output_type": "stream",
     "text": [
      "Naive Bayes Classifier Report:\n",
      "              precision    recall  f1-score   support\n",
      "\n",
      "           1       1.00      1.00      1.00         4\n",
      "\n",
      "    accuracy                           1.00         4\n",
      "   macro avg       1.00      1.00      1.00         4\n",
      "weighted avg       1.00      1.00      1.00         4\n",
      "\n",
      "\n",
      "Naive Bayes Error Rate: 0.00\n"
     ]
    }
   ],
   "source": [
    "import matplotlib.pyplot as plt \n",
    "import seaborn as sns \n",
    "\n",
    "# Function to plot confusion matrix \n",
    "def plot_confusion_matrix(cm, classes, title='Confusion matrix', cmap=plt.cm.Blues): \n",
    "    plt.figure(figsize=(8, 6)) \n",
    "    sns.heatmap(cm, annot=True, fmt='d', cmap=cmap, xticklabels=classes, yticklabels=classes) \n",
    "    plt.title(title) \n",
    "    plt.xlabel('Predicted label') \n",
    "    plt.ylabel('True label') \n",
    "    plt.show() \n",
    "    \n",
    "# Plot confusion matrix for Naive Bayes \n",
    "plot_confusion_matrix(nb_cm, classes=['negative', 'positive'], title='Naive Bayes Confusion Matrix') \n",
    "print(\"Naive Bayes Classifier Report:\") \n",
    "print(nb_report) \n",
    "print(f\"\\nNaive Bayes Error Rate: {nb_error_rate:.2f}\") "
   ]
  },
  {
   "cell_type": "code",
   "execution_count": null,
   "id": "66294da2-0a40-4873-a025-2c02317b8f53",
   "metadata": {},
   "outputs": [],
   "source": []
  }
 ],
 "metadata": {
  "kernelspec": {
   "display_name": "Python [conda env:base] *",
   "language": "python",
   "name": "conda-base-py"
  },
  "language_info": {
   "codemirror_mode": {
    "name": "ipython",
    "version": 3
   },
   "file_extension": ".py",
   "mimetype": "text/x-python",
   "name": "python",
   "nbconvert_exporter": "python",
   "pygments_lexer": "ipython3",
   "version": "3.12.7"
  }
 },
 "nbformat": 4,
 "nbformat_minor": 5
}
